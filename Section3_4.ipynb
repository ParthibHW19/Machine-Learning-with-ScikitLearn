{
  "nbformat": 4,
  "nbformat_minor": 0,
  "metadata": {
    "colab": {
      "name": "Section3_4.ipynb",
      "provenance": []
    },
    "kernelspec": {
      "display_name": "Python 3",
      "language": "python",
      "name": "python3"
    }
  },
  "cells": [
    {
      "cell_type": "code",
      "metadata": {
        "id": "kfJ2Qa6A79hb"
      },
      "source": [
        "import numpy as np\n",
        "import matplotlib.pyplot as plt\n",
        "import pandas as pd\n",
        "\n",
        "from sklearn.ensemble import RandomForestClassifier\n",
        "from sklearn.model_selection import GridSearchCV\n",
        "from sklearn.preprocessing import RobustScaler\n",
        "from sklearn.model_selection import train_test_split\n",
        "from sklearn.decomposition import PCA\n",
        "from sklearn.metrics import accuracy_score, recall_score, precision_score\n",
        "\n",
        "%matplotlib inline"
      ],
      "execution_count": null,
      "outputs": []
    },
    {
      "cell_type": "code",
      "metadata": {
        "id": "0oneku2879hh"
      },
      "source": [
        "default = pd.read_csv('credit_card_default.csv')\n",
        "default.rename(columns=lambda x: x.lower(), inplace=True)\n",
        "default.rename(columns={'pay_0':'pay_1','default payment next month':'default'}, inplace=True)\n",
        "\n",
        "default['grad_school'] = (default['education'] == 1).astype(int)\n",
        "default['university'] = (default['education'] == 2).astype(int)\n",
        "default['high_school'] = (default['education'] == 3).astype(int)\n",
        "default.drop('education', axis=1, inplace=True)\n",
        "\n",
        "default['married_male'] = ((default['sex']==1) & (default['marriage'] == 1)).astype(int)\n",
        "default['not_married_female'] = ((default['sex']==2) & (default['marriage'] != 1)).astype(int)\n",
        "default.drop(['sex','marriage'], axis=1, inplace=True)\n",
        "\n",
        "# For pay_n features if >0 then it means the customer was delayed on that month\n",
        "pay_features = ['pay_' + str(i) for i in range(1,7)]\n",
        "for p in pay_features:\n",
        "    default[p] = (default[p] > 0).astype(int)"
      ],
      "execution_count": null,
      "outputs": []
    },
    {
      "cell_type": "code",
      "metadata": {
        "id": "M96MJa4979hk",
        "outputId": "b4ebd9ed-7865-440c-c2f1-a88971e511ab",
        "colab": {
          "base_uri": "https://localhost:8080/",
          "height": 253
        }
      },
      "source": [
        "default.head()"
      ],
      "execution_count": null,
      "outputs": [
        {
          "output_type": "execute_result",
          "data": {
            "text/html": [
              "<div>\n",
              "<style scoped>\n",
              "    .dataframe tbody tr th:only-of-type {\n",
              "        vertical-align: middle;\n",
              "    }\n",
              "\n",
              "    .dataframe tbody tr th {\n",
              "        vertical-align: top;\n",
              "    }\n",
              "\n",
              "    .dataframe thead th {\n",
              "        text-align: right;\n",
              "    }\n",
              "</style>\n",
              "<table border=\"1\" class=\"dataframe\">\n",
              "  <thead>\n",
              "    <tr style=\"text-align: right;\">\n",
              "      <th></th>\n",
              "      <th>limit_bal</th>\n",
              "      <th>age</th>\n",
              "      <th>pay_1</th>\n",
              "      <th>pay_2</th>\n",
              "      <th>pay_3</th>\n",
              "      <th>pay_4</th>\n",
              "      <th>pay_5</th>\n",
              "      <th>pay_6</th>\n",
              "      <th>bill_amt1</th>\n",
              "      <th>bill_amt2</th>\n",
              "      <th>...</th>\n",
              "      <th>pay_amt3</th>\n",
              "      <th>pay_amt4</th>\n",
              "      <th>pay_amt5</th>\n",
              "      <th>pay_amt6</th>\n",
              "      <th>default</th>\n",
              "      <th>grad_school</th>\n",
              "      <th>university</th>\n",
              "      <th>high_school</th>\n",
              "      <th>married_male</th>\n",
              "      <th>not_married_female</th>\n",
              "    </tr>\n",
              "  </thead>\n",
              "  <tbody>\n",
              "    <tr>\n",
              "      <th>0</th>\n",
              "      <td>20000</td>\n",
              "      <td>24</td>\n",
              "      <td>1</td>\n",
              "      <td>1</td>\n",
              "      <td>0</td>\n",
              "      <td>0</td>\n",
              "      <td>0</td>\n",
              "      <td>0</td>\n",
              "      <td>3913</td>\n",
              "      <td>3102</td>\n",
              "      <td>...</td>\n",
              "      <td>0</td>\n",
              "      <td>0</td>\n",
              "      <td>0</td>\n",
              "      <td>0</td>\n",
              "      <td>1</td>\n",
              "      <td>0</td>\n",
              "      <td>1</td>\n",
              "      <td>0</td>\n",
              "      <td>0</td>\n",
              "      <td>0</td>\n",
              "    </tr>\n",
              "    <tr>\n",
              "      <th>1</th>\n",
              "      <td>120000</td>\n",
              "      <td>26</td>\n",
              "      <td>0</td>\n",
              "      <td>1</td>\n",
              "      <td>0</td>\n",
              "      <td>0</td>\n",
              "      <td>0</td>\n",
              "      <td>1</td>\n",
              "      <td>2682</td>\n",
              "      <td>1725</td>\n",
              "      <td>...</td>\n",
              "      <td>1000</td>\n",
              "      <td>1000</td>\n",
              "      <td>0</td>\n",
              "      <td>2000</td>\n",
              "      <td>1</td>\n",
              "      <td>0</td>\n",
              "      <td>1</td>\n",
              "      <td>0</td>\n",
              "      <td>0</td>\n",
              "      <td>1</td>\n",
              "    </tr>\n",
              "    <tr>\n",
              "      <th>2</th>\n",
              "      <td>90000</td>\n",
              "      <td>34</td>\n",
              "      <td>0</td>\n",
              "      <td>0</td>\n",
              "      <td>0</td>\n",
              "      <td>0</td>\n",
              "      <td>0</td>\n",
              "      <td>0</td>\n",
              "      <td>29239</td>\n",
              "      <td>14027</td>\n",
              "      <td>...</td>\n",
              "      <td>1000</td>\n",
              "      <td>1000</td>\n",
              "      <td>1000</td>\n",
              "      <td>5000</td>\n",
              "      <td>0</td>\n",
              "      <td>0</td>\n",
              "      <td>1</td>\n",
              "      <td>0</td>\n",
              "      <td>0</td>\n",
              "      <td>1</td>\n",
              "    </tr>\n",
              "    <tr>\n",
              "      <th>3</th>\n",
              "      <td>50000</td>\n",
              "      <td>37</td>\n",
              "      <td>0</td>\n",
              "      <td>0</td>\n",
              "      <td>0</td>\n",
              "      <td>0</td>\n",
              "      <td>0</td>\n",
              "      <td>0</td>\n",
              "      <td>46990</td>\n",
              "      <td>48233</td>\n",
              "      <td>...</td>\n",
              "      <td>1200</td>\n",
              "      <td>1100</td>\n",
              "      <td>1069</td>\n",
              "      <td>1000</td>\n",
              "      <td>0</td>\n",
              "      <td>0</td>\n",
              "      <td>1</td>\n",
              "      <td>0</td>\n",
              "      <td>0</td>\n",
              "      <td>0</td>\n",
              "    </tr>\n",
              "    <tr>\n",
              "      <th>4</th>\n",
              "      <td>50000</td>\n",
              "      <td>57</td>\n",
              "      <td>0</td>\n",
              "      <td>0</td>\n",
              "      <td>0</td>\n",
              "      <td>0</td>\n",
              "      <td>0</td>\n",
              "      <td>0</td>\n",
              "      <td>8617</td>\n",
              "      <td>5670</td>\n",
              "      <td>...</td>\n",
              "      <td>10000</td>\n",
              "      <td>9000</td>\n",
              "      <td>689</td>\n",
              "      <td>679</td>\n",
              "      <td>0</td>\n",
              "      <td>0</td>\n",
              "      <td>1</td>\n",
              "      <td>0</td>\n",
              "      <td>1</td>\n",
              "      <td>0</td>\n",
              "    </tr>\n",
              "  </tbody>\n",
              "</table>\n",
              "<p>5 rows × 26 columns</p>\n",
              "</div>"
            ],
            "text/plain": [
              "   limit_bal  age  pay_1  pay_2  pay_3  pay_4  pay_5  pay_6  bill_amt1  \\\n",
              "0      20000   24      1      1      0      0      0      0       3913   \n",
              "1     120000   26      0      1      0      0      0      1       2682   \n",
              "2      90000   34      0      0      0      0      0      0      29239   \n",
              "3      50000   37      0      0      0      0      0      0      46990   \n",
              "4      50000   57      0      0      0      0      0      0       8617   \n",
              "\n",
              "   bill_amt2         ...          pay_amt3  pay_amt4  pay_amt5  pay_amt6  \\\n",
              "0       3102         ...                 0         0         0         0   \n",
              "1       1725         ...              1000      1000         0      2000   \n",
              "2      14027         ...              1000      1000      1000      5000   \n",
              "3      48233         ...              1200      1100      1069      1000   \n",
              "4       5670         ...             10000      9000       689       679   \n",
              "\n",
              "   default  grad_school  university  high_school  married_male  \\\n",
              "0        1            0           1            0             0   \n",
              "1        1            0           1            0             0   \n",
              "2        0            0           1            0             0   \n",
              "3        0            0           1            0             0   \n",
              "4        0            0           1            0             1   \n",
              "\n",
              "   not_married_female  \n",
              "0                   0  \n",
              "1                   1  \n",
              "2                   1  \n",
              "3                   0  \n",
              "4                   0  \n",
              "\n",
              "[5 rows x 26 columns]"
            ]
          },
          "metadata": {
            "tags": []
          },
          "execution_count": 3
        }
      ]
    },
    {
      "cell_type": "code",
      "metadata": {
        "id": "_flAKBPk79hp"
      },
      "source": [
        "# Bill amount minus payment\n",
        "for i in range(1,7):\n",
        "    i = str(i)\n",
        "    new_var_name = 'bill_minus_pay' + i\n",
        "    default[new_var_name] = default['bill_amt'+i] - default['pay_amt'+i]\n",
        "    \n",
        "# Reducing the 6 bill amount features to 1\n",
        "bill_amt_features = ['bill_amt'+str(i) for i in range(1,7)]\n",
        "bill_amt_pca = PCA(n_components=1)\n",
        "default['bill_amt_new_feat'] = bill_amt_pca.fit_transform(default[bill_amt_features])[:,0]\n",
        "default.drop(bill_amt_features, axis=1, inplace=True)\n",
        "\n",
        "# Reducing the 5 pay_i features to 2\n",
        "pay_features = ['pay_'+str(i) for i in range(2,7)]\n",
        "pay_features_pca = PCA(n_components=2).fit_transform(default[pay_features])\n",
        "default['new_pay1'] = pay_features_pca[:,0]\n",
        "default['new_pay2'] = pay_features_pca[:,1]\n",
        "default.drop(pay_features, axis=1, inplace=True)"
      ],
      "execution_count": null,
      "outputs": []
    },
    {
      "cell_type": "code",
      "metadata": {
        "id": "X2SkGgiP79hr"
      },
      "source": [
        "money_features = ['limit_bal', 'pay_amt1', 'pay_amt2', 'pay_amt3', 'pay_amt4', 'pay_amt5', 'pay_amt6',\n",
        "                  'bill_minus_pay1', 'bill_minus_pay2', 'bill_minus_pay3', 'bill_minus_pay4',\n",
        "                  'bill_minus_pay5', 'bill_minus_pay6', 'bill_amt_new_feat']"
      ],
      "execution_count": null,
      "outputs": []
    },
    {
      "cell_type": "code",
      "metadata": {
        "id": "mHKOJ-wd79ht",
        "outputId": "846c749e-0512-4ae2-b07f-5743db53e6ff",
        "colab": {
          "base_uri": "https://localhost:8080/",
          "height": 272
        }
      },
      "source": [
        "default[money_features].var()"
      ],
      "execution_count": null,
      "outputs": [
        {
          "output_type": "execute_result",
          "data": {
            "text/plain": [
              "limit_bal            1.683446e+10\n",
              "pay_amt1             2.743423e+08\n",
              "pay_amt2             5.308817e+08\n",
              "pay_amt3             3.100051e+08\n",
              "pay_amt4             2.454286e+08\n",
              "pay_amt5             2.334266e+08\n",
              "pay_amt6             3.160383e+08\n",
              "bill_minus_pay1      5.354403e+09\n",
              "bill_minus_pay2      5.265815e+09\n",
              "bill_minus_pay3      4.801847e+09\n",
              "bill_minus_pay4      4.121718e+09\n",
              "bill_minus_pay5      3.666711e+09\n",
              "bill_minus_pay6      3.618178e+09\n",
              "bill_amt_new_feat    2.418877e+10\n",
              "dtype: float64"
            ]
          },
          "metadata": {
            "tags": []
          },
          "execution_count": 6
        }
      ]
    },
    {
      "cell_type": "code",
      "metadata": {
        "id": "Ccb-4yIU79hw"
      },
      "source": [
        "default[money_features] = default[money_features]/1000"
      ],
      "execution_count": null,
      "outputs": []
    },
    {
      "cell_type": "code",
      "metadata": {
        "id": "Vcs6TRCp79hy",
        "outputId": "77846b21-4d9e-4c88-a85d-777721d5690f",
        "colab": {
          "base_uri": "https://localhost:8080/",
          "height": 272
        }
      },
      "source": [
        "default[money_features].var()"
      ],
      "execution_count": null,
      "outputs": [
        {
          "output_type": "execute_result",
          "data": {
            "text/plain": [
              "limit_bal            16834.455682\n",
              "pay_amt1               274.342256\n",
              "pay_amt2               530.881709\n",
              "pay_amt3               310.005092\n",
              "pay_amt4               245.428561\n",
              "pay_amt5               233.426624\n",
              "pay_amt6               316.038289\n",
              "bill_minus_pay1       5354.403462\n",
              "bill_minus_pay2       5265.815238\n",
              "bill_minus_pay3       4801.847004\n",
              "bill_minus_pay4       4121.718431\n",
              "bill_minus_pay5       3666.710625\n",
              "bill_minus_pay6       3618.177789\n",
              "bill_amt_new_feat    24188.771200\n",
              "dtype: float64"
            ]
          },
          "metadata": {
            "tags": []
          },
          "execution_count": 8
        }
      ]
    },
    {
      "cell_type": "code",
      "metadata": {
        "id": "xqHrNYH879h1"
      },
      "source": [
        "target_name = 'default'\n",
        "X = default.drop('default', axis=1)\n",
        "feature_names = X.columns\n",
        "robust_scaler = RobustScaler()\n",
        "X = robust_scaler.fit_transform(X)\n",
        "y = default[target_name]\n",
        "X_train, X_test, y_train, y_test = train_test_split(X, y, test_size=0.1, random_state=125, stratify=y)"
      ],
      "execution_count": null,
      "outputs": []
    },
    {
      "cell_type": "code",
      "metadata": {
        "id": "lj0Uzgeq79h3",
        "outputId": "1898cbe1-a13c-4aff-8c5e-bbe8cbe1dca2",
        "colab": {
          "base_uri": "https://localhost:8080/",
          "height": 51
        }
      },
      "source": [
        "parameter_grid = {'n_estimators': [25,50,100], \n",
        "                  'max_depth': [15,20,30],\n",
        "                  'max_features': ['auto','sqrt']}\n",
        "\n",
        "RF_classifier = GridSearchCV(RandomForestClassifier(random_state=12),\n",
        "                             param_grid=parameter_grid, refit=True,\n",
        "                             scoring='recall', cv=10, n_jobs=-1)\n",
        "\n",
        "RF_classifier.fit(X_train, y_train)\n",
        "y_pred_test = RF_classifier.predict(X_test)\n",
        "test_accuracy = accuracy_score(y_pred=y_pred_test, y_true=y_test)\n",
        "test_recall = recall_score(y_pred=y_pred_test, y_true=y_test)\n",
        "print('Test Accuracy:', test_accuracy)\n",
        "print('Test Recall:', test_recall)"
      ],
      "execution_count": null,
      "outputs": [
        {
          "output_type": "stream",
          "text": [
            "Test Accuracy: 0.8026666666666666\n",
            "Test Recall: 0.3328313253012048\n"
          ],
          "name": "stdout"
        }
      ]
    },
    {
      "cell_type": "code",
      "metadata": {
        "id": "TZD5SqEj79h6",
        "outputId": "12ce9504-7bbb-40ce-b33e-63c3341d8c21",
        "colab": {
          "base_uri": "https://localhost:8080/",
          "height": 34
        }
      },
      "source": [
        "RF_classifier.best_params_"
      ],
      "execution_count": null,
      "outputs": [
        {
          "output_type": "execute_result",
          "data": {
            "text/plain": [
              "{'max_depth': 30, 'max_features': 'auto', 'n_estimators': 100}"
            ]
          },
          "metadata": {
            "tags": []
          },
          "execution_count": 11
        }
      ]
    },
    {
      "cell_type": "code",
      "metadata": {
        "id": "QO1JnVMf79h9",
        "outputId": "17fcb38e-f838-4ce5-e7d0-d44ff517635d",
        "colab": {
          "base_uri": "https://localhost:8080/",
          "height": 51
        }
      },
      "source": [
        "y_pred_proba = RF_classifier.predict_proba(X_test)[:,1]\n",
        "y_pred_test = (y_pred_proba >= 0.2).astype('int')\n",
        "print(\"Recall: \", 100*round(recall_score(y_pred=y_pred_test, y_true=y_test),4))\n",
        "print(\"Precision: \", 100*round(precision_score(y_pred=y_pred_test, y_true=y_test),4))"
      ],
      "execution_count": null,
      "outputs": [
        {
          "output_type": "stream",
          "text": [
            "Recall:  71.39\n",
            "Precision:  37.32\n"
          ],
          "name": "stdout"
        }
      ]
    },
    {
      "cell_type": "code",
      "metadata": {
        "id": "b0WrvQtx79iA",
        "outputId": "74afe261-9149-4f2d-8b34-9614309ce6ea",
        "colab": {
          "base_uri": "https://localhost:8080/",
          "height": 403
        }
      },
      "source": [
        "fig, ax = plt.subplots(figsize=(8,6))\n",
        "feature_importances = pd.Series(data=RF_classifier.best_estimator_.feature_importances_, index=feature_names)\n",
        "feature_importances.sort_values().plot(kind='barh', ax=ax)\n",
        "ax.set_xlabel('Importance')\n",
        "ax.set_ylabel('Feature')\n",
        "ax.set_title('Feature importances from Random Forest model')\n",
        "ax.grid();"
      ],
      "execution_count": null,
      "outputs": [
        {
          "output_type": "display_data",
          "data": {
            "image/png": "[encoded data removed]",
            "text/plain": [
              "<Figure size 576x432 with 1 Axes>"
            ]
          },
          "metadata": {
            "tags": []
          }
        }
      ]
    },
    {
      "cell_type": "code",
      "metadata": {
        "id": "V0_4LrxU79iC"
      },
      "source": [
        ""
      ],
      "execution_count": null,
      "outputs": []
    }
  ]
}