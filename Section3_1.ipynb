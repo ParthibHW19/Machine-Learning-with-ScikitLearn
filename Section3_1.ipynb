{
  "nbformat": 4,
  "nbformat_minor": 0,
  "metadata": {
    "colab": {
      "name": "Section3_1.ipynb",
      "provenance": [],
      "collapsed_sections": []
    },
    "kernelspec": {
      "display_name": "Python 3",
      "language": "python",
      "name": "python3"
    }
  },
  "cells": [
    {
      "cell_type": "code",
      "metadata": {
        "id": "wFxS7NYR4-wf"
      },
      "source": [
        "import numpy as np\n",
        "import matplotlib.pyplot as plt\n",
        "import pandas as pd\n",
        "\n",
        "from sklearn.model_selection import train_test_split\n",
        "from sklearn.preprocessing import RobustScaler\n",
        "from sklearn.model_selection import cross_validate\n",
        "from sklearn.ensemble import RandomForestClassifier\n",
        "\n",
        "%matplotlib inline"
      ],
      "execution_count": null,
      "outputs": []
    },
    {
      "cell_type": "code",
      "metadata": {
        "id": "eWyyo7r14-wk"
      },
      "source": [
        "default = pd.read_csv('credit_card_default.csv')\n",
        "default.rename(columns=lambda x: x.lower(), inplace=True)\n",
        "default.rename(columns={'pay_0':'pay_1','default payment next month':'default'}, inplace=True)\n",
        "\n",
        "default['grad_school'] = (default['education'] == 1).astype(int)\n",
        "default['university'] = (default['education'] == 2).astype(int)\n",
        "default['high_school'] = (default['education'] == 3).astype(int)\n",
        "default.drop('education', axis=1, inplace=True)\n",
        "\n",
        "default['male'] = (default['sex']==1).astype(int)\n",
        "default['married'] = (default['marriage'] == 1).astype(int)\n",
        "default.drop(['sex','marriage'], axis=1, inplace=True)\n",
        "\n",
        "# For pay_n features if >0 then it means the customer was delayed on that month\n",
        "pay_features = ['pay_' + str(i) for i in range(1,7)]\n",
        "for p in pay_features:\n",
        "    default[p] = (default[p] > 0).astype(int)"
      ],
      "execution_count": null,
      "outputs": []
    },
    {
      "cell_type": "code",
      "metadata": {
        "id": "lSGH6caF4-wn"
      },
      "source": [
        "dummy_features =['pay_'+str(i) for i in range(1,7)]\n",
        "dummy_features += ['male','married','grad_school','university','high_school']\n",
        "numerical_features = [x for x in default.columns if x not in dummy_features+['default']]"
      ],
      "execution_count": null,
      "outputs": []
    },
    {
      "cell_type": "code",
      "metadata": {
        "id": "znfbjJ8n4-wq"
      },
      "source": [
        "target_name = 'default'\n",
        "X = default.drop('default', axis=1)\n",
        "feature_names = X.columns\n",
        "robust_scaler = RobustScaler()\n",
        "X = robust_scaler.fit_transform(X)\n",
        "y = default[target_name]"
      ],
      "execution_count": null,
      "outputs": []
    },
    {
      "cell_type": "code",
      "metadata": {
        "id": "o959FP274-wr"
      },
      "source": [
        "variances = pd.Series(default.var(axis=0))"
      ],
      "execution_count": null,
      "outputs": []
    },
    {
      "cell_type": "code",
      "metadata": {
        "id": "o_M0isYB4-wu",
        "outputId": "e38a6492-e4d2-43e8-a50d-02dcb0d68bbd",
        "colab": {
          "base_uri": "https://localhost:8080/",
          "height": 389
        }
      },
      "source": [
        "fig, ax = plt.subplots(figsize=(7,6))\n",
        "variances.loc[dummy_features].sort_values().plot(kind='barh', ax=ax)\n",
        "ax.vlines(0.1, ymin=-1, ymax=25, colors='red')\n",
        "ax.set_title('Variances of dummy features');"
      ],
      "execution_count": null,
      "outputs": [
        {
          "output_type": "display_data",
          "data": {
            "image/png": "[encoded data removed]",
            "text/plain": [
              "<Figure size 504x432 with 1 Axes>"
            ]
          },
          "metadata": {
            "tags": []
          }
        }
      ]
    },
    {
      "cell_type": "code",
      "metadata": {
        "id": "hDPCCHcW4-wy"
      },
      "source": [
        "from sklearn.feature_selection import SelectKBest\n",
        "from sklearn.feature_selection import chi2"
      ],
      "execution_count": null,
      "outputs": []
    },
    {
      "cell_type": "code",
      "metadata": {
        "id": "nfmYpN4e4-w1",
        "outputId": "490372af-89ac-442c-d5f1-b94e73cbfcf2",
        "colab": {
          "base_uri": "https://localhost:8080/",
          "height": 34
        }
      },
      "source": [
        "dummy_selector = SelectKBest(chi2, k=\"all\")\n",
        "dummy_selector.fit(default[dummy_features], default[target_name])"
      ],
      "execution_count": null,
      "outputs": [
        {
          "output_type": "execute_result",
          "data": {
            "text/plain": [
              "SelectKBest(k='all', score_func=<function chi2 at 0x7f36c63cc620>)"
            ]
          },
          "metadata": {
            "tags": []
          },
          "execution_count": 8
        }
      ]
    },
    {
      "cell_type": "code",
      "metadata": {
        "id": "XI211gMD4-w3",
        "outputId": "2778281d-5fe2-4bb9-97eb-5b0ea6ee6c2f",
        "colab": {
          "base_uri": "https://localhost:8080/",
          "height": 68
        }
      },
      "source": [
        "dummy_selector.scores_"
      ],
      "execution_count": null,
      "outputs": [
        {
          "output_type": "execute_result",
          "data": {
            "text/plain": [
              "array([3141.39566361, 2920.6909149 , 2222.60680108, 2010.51973814,\n",
              "       1926.49180212, 1630.3290955 ,   28.92210682,   14.48674466,\n",
              "         51.149551  ,   21.23797331,   26.33631512])"
            ]
          },
          "metadata": {
            "tags": []
          },
          "execution_count": 9
        }
      ]
    },
    {
      "cell_type": "code",
      "metadata": {
        "id": "rV2B4rMc4-w6",
        "outputId": "f9fdaad5-6464-47f7-d5f1-eed50ff5ad31",
        "colab": {
          "base_uri": "https://localhost:8080/",
          "height": 68
        }
      },
      "source": [
        "dummy_selector.pvalues_"
      ],
      "execution_count": null,
      "outputs": [
        {
          "output_type": "execute_result",
          "data": {
            "text/plain": [
              "array([0.00000000e+00, 0.00000000e+00, 0.00000000e+00, 0.00000000e+00,\n",
              "       0.00000000e+00, 0.00000000e+00, 7.53480421e-08, 1.41149283e-04,\n",
              "       8.55902557e-13, 4.05647636e-06, 2.86844139e-07])"
            ]
          },
          "metadata": {
            "tags": []
          },
          "execution_count": 10
        }
      ]
    },
    {
      "cell_type": "code",
      "metadata": {
        "id": "0wYI0XGr4-w9"
      },
      "source": [
        "from sklearn.feature_selection import f_classif"
      ],
      "execution_count": null,
      "outputs": []
    },
    {
      "cell_type": "code",
      "metadata": {
        "id": "Km5TKpBE4-w_",
        "outputId": "b93494cf-78f3-4d8b-9953-58dde0592b8f",
        "colab": {
          "base_uri": "https://localhost:8080/",
          "height": 34
        }
      },
      "source": [
        "num_selector = SelectKBest(f_classif, k=\"all\")\n",
        "num_selector.fit(default[numerical_features], default[target_name])"
      ],
      "execution_count": null,
      "outputs": [
        {
          "output_type": "execute_result",
          "data": {
            "text/plain": [
              "SelectKBest(k='all', score_func=<function f_classif at 0x7f36c63cc510>)"
            ]
          },
          "metadata": {
            "tags": []
          },
          "execution_count": 12
        }
      ]
    },
    {
      "cell_type": "code",
      "metadata": {
        "id": "s0N7ccUb4-xB",
        "outputId": "75878b05-43ea-4afe-b920-871dccaf3f5e",
        "colab": {
          "base_uri": "https://localhost:8080/",
          "height": 85
        }
      },
      "source": [
        "num_selector.pvalues_"
      ],
      "execution_count": null,
      "outputs": [
        {
          "output_type": "execute_result",
          "data": {
            "text/plain": [
              "array([1.30224395e-157, 1.61368459e-002, 6.67329549e-004, 1.39573624e-002,\n",
              "       1.47699827e-002, 7.85556416e-002, 2.41634443e-001, 3.52122521e-001,\n",
              "       1.14648761e-036, 3.16665676e-024, 1.84177029e-022, 6.83094160e-023,\n",
              "       1.24134477e-021, 3.03358907e-020])"
            ]
          },
          "metadata": {
            "tags": []
          },
          "execution_count": 13
        }
      ]
    },
    {
      "cell_type": "code",
      "metadata": {
        "id": "qNbeLACK4-xG",
        "outputId": "bb6817d8-23b8-4ce7-8666-69f523197a2b",
        "colab": {
          "base_uri": "https://localhost:8080/",
          "height": 85
        }
      },
      "source": [
        "pd.Series(numerical_features).loc[num_selector.pvalues_>0.05]"
      ],
      "execution_count": null,
      "outputs": [
        {
          "output_type": "execute_result",
          "data": {
            "text/plain": [
              "5    bill_amt4\n",
              "6    bill_amt5\n",
              "7    bill_amt6\n",
              "dtype: object"
            ]
          },
          "metadata": {
            "tags": []
          },
          "execution_count": 14
        }
      ]
    },
    {
      "cell_type": "code",
      "metadata": {
        "id": "MOuk_8ZI4-xK",
        "outputId": "7e51b025-9225-4a16-c6cd-75fc316fc325",
        "colab": {
          "base_uri": "https://localhost:8080/",
          "height": 34
        }
      },
      "source": [
        "print(\"Number of features:\", X.shape[1])"
      ],
      "execution_count": null,
      "outputs": [
        {
          "output_type": "stream",
          "text": [
            "Number of features: 25\n"
          ],
          "name": "stdout"
        }
      ]
    },
    {
      "cell_type": "code",
      "metadata": {
        "id": "YQuT7in_4-xN"
      },
      "source": [
        "from sklearn.feature_selection import RFE"
      ],
      "execution_count": null,
      "outputs": []
    },
    {
      "cell_type": "code",
      "metadata": {
        "id": "nbQtugOU4-xQ"
      },
      "source": [
        "RF = RandomForestClassifier(n_estimators=100, max_depth=20, max_features='auto',\n",
        "                            random_state=55, n_jobs=-1)"
      ],
      "execution_count": null,
      "outputs": []
    },
    {
      "cell_type": "code",
      "metadata": {
        "id": "XlJj4gF_4-xT"
      },
      "source": [
        "recursive_selector = RFE(estimator=RF, n_features_to_select=12)"
      ],
      "execution_count": null,
      "outputs": []
    },
    {
      "cell_type": "code",
      "metadata": {
        "id": "N7u4btvK4-xV"
      },
      "source": [
        "recursive_selector = recursive_selector.fit(X, y)"
      ],
      "execution_count": null,
      "outputs": []
    },
    {
      "cell_type": "code",
      "metadata": {
        "id": "3VifbFTY4-xX",
        "outputId": "10ae9547-117d-480e-8792-55cf9e7bcb03",
        "colab": {
          "base_uri": "https://localhost:8080/",
          "height": 68
        }
      },
      "source": [
        "recursive_selector.support_"
      ],
      "execution_count": null,
      "outputs": [
        {
          "output_type": "execute_result",
          "data": {
            "text/plain": [
              "array([ True,  True,  True, False, False, False, False, False,  True,\n",
              "        True,  True,  True,  True,  True,  True,  True,  True, False,\n",
              "       False, False, False, False, False, False, False])"
            ]
          },
          "metadata": {
            "tags": []
          },
          "execution_count": 20
        }
      ]
    },
    {
      "cell_type": "code",
      "metadata": {
        "id": "3jAGqUMY4-xa",
        "outputId": "ceb53613-f260-4bfa-9a38-937dac2eedc4",
        "colab": {
          "base_uri": "https://localhost:8080/",
          "height": 238
        }
      },
      "source": [
        "print('12 most important features:')\n",
        "for x in feature_names[recursive_selector.support_]:\n",
        "    print(x)"
      ],
      "execution_count": null,
      "outputs": [
        {
          "output_type": "stream",
          "text": [
            "12 most important features:\n",
            "limit_bal\n",
            "age\n",
            "pay_1\n",
            "bill_amt1\n",
            "bill_amt2\n",
            "bill_amt3\n",
            "bill_amt4\n",
            "bill_amt5\n",
            "bill_amt6\n",
            "pay_amt1\n",
            "pay_amt2\n",
            "pay_amt3\n"
          ],
          "name": "stdout"
        }
      ]
    },
    {
      "cell_type": "code",
      "metadata": {
        "id": "4xLpH5hH4-xc",
        "outputId": "91bf08cc-9e5e-4b57-ed04-a54b5b8b2055",
        "colab": {
          "base_uri": "https://localhost:8080/",
          "height": 255
        }
      },
      "source": [
        "print('Features to eliminate:')\n",
        "for x in feature_names[~recursive_selector.support_]:\n",
        "    print(x)"
      ],
      "execution_count": null,
      "outputs": [
        {
          "output_type": "stream",
          "text": [
            "Features to eliminate:\n",
            "pay_2\n",
            "pay_3\n",
            "pay_4\n",
            "pay_5\n",
            "pay_6\n",
            "pay_amt4\n",
            "pay_amt5\n",
            "pay_amt6\n",
            "grad_school\n",
            "university\n",
            "high_school\n",
            "male\n",
            "married\n"
          ],
          "name": "stdout"
        }
      ]
    },
    {
      "cell_type": "code",
      "metadata": {
        "id": "MorppxYU4-xe"
      },
      "source": [
        "selector_model = cross_validate(estimator=RF,X=X[:,recursive_selector.support_], y=y,\n",
        "                            scoring=['recall','accuracy'], cv=10, n_jobs=-1)\n",
        "\n",
        "full_model = cross_validate(estimator=RF,X=X,y=y,\n",
        "                            scoring=['recall','accuracy'], cv=10, n_jobs=-1)"
      ],
      "execution_count": null,
      "outputs": []
    },
    {
      "cell_type": "code",
      "metadata": {
        "id": "Wi5_6H4c4-xg"
      },
      "source": [
        "metrics = pd.DataFrame({'Full Model Recall':full_model['test_recall'],\n",
        "                        'Full Model Accuracy':full_model['test_accuracy'],\n",
        "                        'Selector Model Recall': selector_model['test_recall'],\n",
        "                        'Selector Model Accuracy': selector_model['test_accuracy']})"
      ],
      "execution_count": null,
      "outputs": []
    },
    {
      "cell_type": "code",
      "metadata": {
        "id": "JGlyTnzH4-xi",
        "outputId": "210e4d4f-b621-4ef2-9f42-dfd18cbf121e",
        "colab": {
          "base_uri": "https://localhost:8080/",
          "height": 68
        }
      },
      "source": [
        "metrics[['Full Model Recall','Selector Model Recall']].mean()"
      ],
      "execution_count": null,
      "outputs": [
        {
          "output_type": "execute_result",
          "data": {
            "text/plain": [
              "Full Model Recall        0.361063\n",
              "Selector Model Recall    0.355640\n",
              "dtype: float64"
            ]
          },
          "metadata": {
            "tags": []
          },
          "execution_count": 25
        }
      ]
    },
    {
      "cell_type": "code",
      "metadata": {
        "id": "ljyYO2GZ4-xk",
        "outputId": "039bd7a8-2370-476c-babe-f743a7ff404d",
        "colab": {
          "base_uri": "https://localhost:8080/",
          "height": 335
        }
      },
      "source": [
        "fig, ax = plt.subplots(figsize=(8,5))\n",
        "metrics[['Full Model Recall','Selector Model Recall']].mean().sort_values().plot(kind='barh', ax=ax)\n",
        "ax.set_title('Mean Test Recall for RF Models');"
      ],
      "execution_count": null,
      "outputs": [
        {
          "output_type": "display_data",
          "data": {
            "image/png": "[encoded data removed]",
            "text/plain": [
              "<Figure size 576x360 with 1 Axes>"
            ]
          },
          "metadata": {
            "tags": []
          }
        }
      ]
    },
    {
      "cell_type": "code",
      "metadata": {
        "id": "RJFWXVHz4-xm",
        "outputId": "e040dea9-b0af-494e-c226-607ec137fba6",
        "colab": {
          "base_uri": "https://localhost:8080/",
          "height": 335
        }
      },
      "source": [
        "fig, ax = plt.subplots(figsize=(8,5))\n",
        "metrics[['Full Model Accuracy','Selector Model Accuracy']].mean().sort_values().plot(kind='barh', ax=ax)\n",
        "ax.set_title('Mean Test Accuracy for RF Models');"
      ],
      "execution_count": null,
      "outputs": [
        {
          "output_type": "display_data",
          "data": {
            "image/png": "[encoded data removed]",
            "text/plain": [
              "<Figure size 576x360 with 1 Axes>"
            ]
          },
          "metadata": {
            "tags": []
          }
        }
      ]
    },
    {
      "cell_type": "code",
      "metadata": {
        "id": "yNFx10_74-xo"
      },
      "source": [
        ""
      ],
      "execution_count": null,
      "outputs": []
    }
  ]
}